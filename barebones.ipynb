{
  "nbformat": 4,
  "nbformat_minor": 0,
  "metadata": {
    "colab": {
      "provenance": [],
      "collapsed_sections": [
        "XSeUZYweFSag",
        "0LeozZMzGHc5"
      ],
      "mount_file_id": "1-QnyTkrV7r8X-o1nciAyEn4s6RHlElrn",
      "authorship_tag": "ABX9TyPU/nbr+r0qYkL6HEEiaMIC",
      "include_colab_link": true
    },
    "kernelspec": {
      "name": "python3",
      "display_name": "Python 3"
    },
    "language_info": {
      "name": "python"
    }
  },
  "cells": [
    {
      "cell_type": "markdown",
      "metadata": {
        "id": "view-in-github",
        "colab_type": "text"
      },
      "source": [
        "<a href=\"https://colab.research.google.com/github/ydsyvn/mnist-activation-maximization/blob/main/barebones.ipynb\" target=\"_parent\"><img src=\"https://colab.research.google.com/assets/colab-badge.svg\" alt=\"Open In Colab\"/></a>"
      ]
    },
    {
      "cell_type": "code",
      "execution_count": null,
      "metadata": {
        "id": "egfzao8J08J2"
      },
      "outputs": [],
      "source": [
        "from nn_from_scratch import DeepNeuralNetwork\n",
        "\n",
        "import numpy as np\n",
        "import tensorflow as tf\n",
        "import matplotlib.pyplot as plt"
      ]
    },
    {
      "cell_type": "code",
      "source": [
        "load_path = '/content/drive/MyDrive/Data/Mech Interp/mnist_model_weights.npz'\n",
        "\n",
        "loaded_weights = np.load(load_path)\n",
        "\n",
        "input_size = 784  # For MNIST (28*28)\n",
        "hidden_size = 128\n",
        "output_size = 10  # 10 digits\n",
        "\n",
        "nn = DeepNeuralNetwork(input_size, hidden_size, output_size)\n",
        "\n",
        "# Assign the loaded weights and biases to the new network instance\n",
        "nn.W1 = loaded_weights['W1']\n",
        "nn.b1 = loaded_weights['b1']\n",
        "nn.W2 = loaded_weights['W2']\n",
        "nn.b2 = loaded_weights['b2']\n",
        "\n",
        "print(\"Model weights and biases loaded successfully.\")"
      ],
      "metadata": {
        "colab": {
          "base_uri": "https://localhost:8080/"
        },
        "id": "mXqUKMqhDEdT",
        "outputId": "e733c698-145d-4b34-ad5b-d848f64db011"
      },
      "execution_count": null,
      "outputs": [
        {
          "output_type": "stream",
          "name": "stdout",
          "text": [
            "Model weights and biases loaded successfully.\n"
          ]
        }
      ]
    },
    {
      "cell_type": "code",
      "source": [
        "import tensorflow as tf\n",
        "import numpy as np\n",
        "\n",
        "# Load MNIST using TensorFlow/Keras (you can change this to another library if you prefer)\n",
        "(X_train, y_train), (X_test, y_test) = tf.keras.datasets.mnist.load_data()\n",
        "\n",
        "# Preprocess the data\n",
        "X_train = X_train.astype('float32') / 255.0\n",
        "X_test = X_test.astype('float32') / 255.0\n",
        "X_train = X_train.reshape(-1, 28*28)\n",
        "X_test = X_test.reshape(-1, 28*28)\n",
        "\n",
        "# Custom one-hot encoding function\n",
        "def one_hot_encode(y, num_classes=10):\n",
        "    encoded = np.zeros((y.size, num_classes))\n",
        "    encoded[np.arange(y.size), y] = 1\n",
        "    return encoded\n",
        "\n",
        "# Apply custom one-hot encoding\n",
        "y_train = one_hot_encode(y_train)\n",
        "y_test = one_hot_encode(y_test)\n"
      ],
      "metadata": {
        "colab": {
          "base_uri": "https://localhost:8080/"
        },
        "id": "IUictXg9DEVM",
        "outputId": "7c400f01-8eaa-4fbb-c510-0b1598fbb55b"
      },
      "execution_count": null,
      "outputs": [
        {
          "output_type": "stream",
          "name": "stdout",
          "text": [
            "Downloading data from https://storage.googleapis.com/tensorflow/tf-keras-datasets/mnist.npz\n",
            "\u001b[1m11490434/11490434\u001b[0m \u001b[32m━━━━━━━━━━━━━━━━━━━━\u001b[0m\u001b[37m\u001b[0m \u001b[1m0s\u001b[0m 0us/step\n"
          ]
        }
      ]
    },
    {
      "cell_type": "code",
      "source": [
        "class ActivationMaximizationNN(DeepNeuralNetwork):\n",
        "  def __init__(self, input_size, hidden_size, output_size, learning_rate=0.01):\n",
        "    super().__init__(input_size, hidden_size, output_size, learning_rate)\n",
        "\n",
        "  def generate_random_image(self, mean=0.5, std=0.1):\n",
        "    \"\"\" Generate random image \"\"\"\n",
        "    image = np.random.normal(loc=mean, scale=std, size=(28, 28))\n",
        "    return np.clip(image, 0.0, 1.0)\n",
        "\n",
        "  def show_images_grid(self, images, title=\"Activation Maximization\"):\n",
        "    \"\"\" Display grid of images \"\"\"\n",
        "    import matplotlib.pyplot as plt\n",
        "    fig, axes = plt.subplots(2, 5, figsize=(10, 4))\n",
        "    for i, ax in enumerate(axes.flat):\n",
        "        ax.imshow(images[i].reshape(28, 28), cmap='gray')\n",
        "        ax.set_title(f'Class {i}')\n",
        "        ax.axis('off')\n",
        "    plt.suptitle(title)\n",
        "    plt.tight_layout()\n",
        "    plt.show()\n",
        "\n",
        "  def activation_max_backward(self, target_class):\n",
        "    \"\"\"d_a2 = np.zeros_like(self.a2)\n",
        "    d_a2[0, target_class] = 1.0\n",
        "\n",
        "    d_z2 = self.a2.copy()\n",
        "    d_z2[0, target_class] -= 1.0\n",
        "    d_z2 = -d_z2\n",
        "\n",
        "    d_a1 = np.dot(d_z2, self.W2.T)\n",
        "    d_z1 = d_a1 * self.relu_derivative(self.z1)\n",
        "    d_x = np.dot(d_z1, self.W1.T)\"\"\"\n",
        "\n",
        "    d_z2 = np.zeros_like(self.z2)\n",
        "    d_z2[0, target_class] = 1.0\n",
        "\n",
        "    # Backpropagate through the network\n",
        "    d_a1 = np.dot(d_z2, self.W2.T)\n",
        "    d_z1 = d_a1 * self.relu_derivative(self.z1)\n",
        "    d_x = np.dot(d_z1, self.W1.T)\n",
        "\n",
        "    return d_x\n",
        "\n",
        "  def activation_maximize_class(self, target_class, steps=100, lr=0.01, verbose=True):\n",
        "    \"\"\"\n",
        "    Maximize activation for specific class\n",
        "    \"\"\"\n",
        "    image = self.generate_random_image(mean=0.1, std=0.5)\n",
        "    history = []\n",
        "\n",
        "    if verbose:\n",
        "      print(f\"Maximizing class {target_class}\")\n",
        "\n",
        "    for step in range(steps):\n",
        "      image_flat = image.reshape(1, 784)  # flatten image\n",
        "\n",
        "      # Forward pass\n",
        "      output = self.forward(image_flat)\n",
        "      activation = self.z2[0, target_class]\n",
        "\n",
        "      # Compute gradients\n",
        "      grad = self.activation_max_backward(target_class)\n",
        "      grad = grad.reshape(28, 28)\n",
        "\n",
        "      image += lr * grad\n",
        "\n",
        "      image = np.clip(image, 0.0, 1.0)\n",
        "\n",
        "      if step % 50 == 0 and step > 0:\n",
        "        lr *= 0.9\n",
        "\n",
        "      history.append(activation)\n",
        "\n",
        "      if verbose and (step % 10 == 0 or step+1 == steps):\n",
        "        print(f\"Step {step+1}/{steps} | Activation: {activation:.4f}\")\n",
        "\n",
        "    if verbose:\n",
        "      print()\n",
        "\n",
        "    return history, image.reshape(1, 784)\n",
        "\n",
        "  def activation_maximize_all_classes(self, steps=100, lr=0.01, num_attempts=3, visualize=True, verbose=True):\n",
        "    best_images = []\n",
        "    history = []\n",
        "\n",
        "    for idx in range(10):\n",
        "\n",
        "      best_image = None\n",
        "      best_activation = -np.inf\n",
        "      class_history = []\n",
        "\n",
        "      for attempt in range(num_attempts):\n",
        "        if verbose and num_attempts > 1:\n",
        "          print(f\"Attempt {attempt+1}/{num_attempts}\")\n",
        "\n",
        "        attempt_history, image = self.activation_maximize_class(\n",
        "          target_class=idx,\n",
        "          steps=steps,\n",
        "          lr=lr,\n",
        "          verbose=verbose\n",
        "        )\n",
        "\n",
        "        output = self.forward(image)\n",
        "        activation = self.z2[0, idx]\n",
        "\n",
        "        if activation > best_activation:\n",
        "          best_image = image.copy()\n",
        "          best_activation = activation\n",
        "\n",
        "        class_history.append(attempt_history)\n",
        "\n",
        "        if verbose and num_attempts > 1:\n",
        "          print(f\"Final activation: {activation:.4f}\")\n",
        "\n",
        "      best_images.append(best_image)\n",
        "      history.append(class_history)\n",
        "\n",
        "      if verbose:\n",
        "        print(f\"Best activation for class {idx}: {best_activation:.4f}\")\n",
        "\n",
        "    if visualize:\n",
        "      self.show_images_grid(best_images)\n",
        "\n",
        "    return history, best_images\n"
      ],
      "metadata": {
        "id": "gQjH4yha9aab"
      },
      "execution_count": null,
      "outputs": []
    },
    {
      "cell_type": "code",
      "source": [
        "def visualize_image(img):\n",
        "  if (img.shape == (784,) or img.shape == (1, 784)):\n",
        "    img = img.reshape(28, 28)\n",
        "\n",
        "  plt.imshow(img, cmap='gray')\n",
        "  plt.axis('off')\n",
        "  plt.show()"
      ],
      "metadata": {
        "id": "EwVg8GhE9bPu"
      },
      "execution_count": null,
      "outputs": []
    },
    {
      "cell_type": "code",
      "source": [
        "act_max_nn = ActivationMaximizationNN(input_size=784, hidden_size=128, output_size=10)\n",
        "\n",
        "act_max_nn.W1 = loaded_weights['W1']\n",
        "act_max_nn.b1 = loaded_weights['b1']\n",
        "act_max_nn.W2 = loaded_weights['W2']\n",
        "act_max_nn.b2 = loaded_weights['b2']"
      ],
      "metadata": {
        "id": "SkA9OYGE9fDx"
      },
      "execution_count": null,
      "outputs": []
    },
    {
      "cell_type": "code",
      "source": [
        "history, images = act_max_nn.activation_maximize_all_classes(steps=200, lr=0.1, visualize=False)"
      ],
      "metadata": {
        "id": "yTcHcb5A9gnu"
      },
      "execution_count": null,
      "outputs": []
    },
    {
      "cell_type": "code",
      "source": [
        "act_max_nn.show_images_grid(images)"
      ],
      "metadata": {
        "id": "o8FU-czI9lQb"
      },
      "execution_count": null,
      "outputs": []
    },
    {
      "cell_type": "code",
      "source": [
        "def plot_activation_history_grid(history):\n",
        "    import matplotlib.pyplot as plt\n",
        "\n",
        "    fig, axes = plt.subplots(2, 5, figsize=(20, 8))\n",
        "    axes = axes.flatten()\n",
        "\n",
        "    for class_idx in range(10):\n",
        "        ax = axes[class_idx]\n",
        "        for attempt_idx, attempt in enumerate(history[class_idx]):\n",
        "            ax.plot(attempt, label=f'Attempt {attempt_idx+1}')\n",
        "        ax.set_title(f'Class {class_idx}')\n",
        "        ax.set_xlabel('Step')\n",
        "        ax.set_ylabel('Activation')\n",
        "        ax.legend(fontsize='small')\n",
        "        ax.grid(True)\n",
        "\n",
        "    plt.tight_layout()\n",
        "    plt.show()"
      ],
      "metadata": {
        "id": "JphfcpXh9mWC"
      },
      "execution_count": null,
      "outputs": []
    },
    {
      "cell_type": "code",
      "source": [
        "plot_activation_history_grid(history)"
      ],
      "metadata": {
        "id": "O5AMXRZV9pK_"
      },
      "execution_count": null,
      "outputs": []
    }
  ]
}