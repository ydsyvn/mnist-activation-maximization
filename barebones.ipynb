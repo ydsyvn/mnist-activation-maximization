{
  "nbformat": 4,
  "nbformat_minor": 0,
  "metadata": {
    "colab": {
      "provenance": [],
      "collapsed_sections": [
        "XSeUZYweFSag",
        "0LeozZMzGHc5"
      ],
      "mount_file_id": "1-QnyTkrV7r8X-o1nciAyEn4s6RHlElrn",
      "authorship_tag": "ABX9TyMD15H/SvHREc4WMKZWtbMw",
      "include_colab_link": true
    },
    "kernelspec": {
      "name": "python3",
      "display_name": "Python 3"
    },
    "language_info": {
      "name": "python"
    }
  },
  "cells": [
    {
      "cell_type": "markdown",
      "metadata": {
        "id": "view-in-github",
        "colab_type": "text"
      },
      "source": [
        "<a href=\"https://colab.research.google.com/github/ydsyvn/mnist-activation-maximization/blob/main/barebones.ipynb\" target=\"_parent\"><img src=\"https://colab.research.google.com/assets/colab-badge.svg\" alt=\"Open In Colab\"/></a>"
      ]
    },
    {
      "cell_type": "code",
      "execution_count": 4,
      "metadata": {
        "id": "egfzao8J08J2"
      },
      "outputs": [],
      "source": [
        "from nn_from_scratch import DeepNeuralNetwork\n",
        "\n",
        "import numpy as np\n",
        "import tensorflow as tf\n",
        "import matplotlib.pyplot as plt"
      ]
    },
    {
      "cell_type": "code",
      "source": [
        "load_path = '/content/drive/MyDrive/Data/Mech Interp/mnist_model_weights.npz'\n",
        "\n",
        "loaded_weights = np.load(load_path)\n",
        "\n",
        "input_size = 784  # For MNIST (28*28)\n",
        "hidden_size = 128\n",
        "output_size = 10  # 10 digits\n",
        "\n",
        "nn = DeepNeuralNetwork(input_size, hidden_size, output_size)\n",
        "\n",
        "# Assign the loaded weights and biases to the new network instance\n",
        "nn.W1 = loaded_weights['W1']\n",
        "nn.b1 = loaded_weights['b1']\n",
        "nn.W2 = loaded_weights['W2']\n",
        "nn.b2 = loaded_weights['b2']\n",
        "\n",
        "print(\"Model weights and biases loaded successfully.\")"
      ],
      "metadata": {
        "colab": {
          "base_uri": "https://localhost:8080/"
        },
        "id": "mXqUKMqhDEdT",
        "outputId": "e733c698-145d-4b34-ad5b-d848f64db011"
      },
      "execution_count": 5,
      "outputs": [
        {
          "output_type": "stream",
          "name": "stdout",
          "text": [
            "Model weights and biases loaded successfully.\n"
          ]
        }
      ]
    },
    {
      "cell_type": "code",
      "source": [
        "import tensorflow as tf\n",
        "import numpy as np\n",
        "\n",
        "# Load MNIST using TensorFlow/Keras (you can change this to another library if you prefer)\n",
        "(X_train, y_train), (X_test, y_test) = tf.keras.datasets.mnist.load_data()\n",
        "\n",
        "# Preprocess the data\n",
        "X_train = X_train.astype('float32') / 255.0\n",
        "X_test = X_test.astype('float32') / 255.0\n",
        "X_train = X_train.reshape(-1, 28*28)\n",
        "X_test = X_test.reshape(-1, 28*28)\n",
        "\n",
        "# Custom one-hot encoding function\n",
        "def one_hot_encode(y, num_classes=10):\n",
        "    encoded = np.zeros((y.size, num_classes))\n",
        "    encoded[np.arange(y.size), y] = 1\n",
        "    return encoded\n",
        "\n",
        "# Apply custom one-hot encoding\n",
        "y_train = one_hot_encode(y_train)\n",
        "y_test = one_hot_encode(y_test)\n"
      ],
      "metadata": {
        "colab": {
          "base_uri": "https://localhost:8080/"
        },
        "id": "IUictXg9DEVM",
        "outputId": "7c400f01-8eaa-4fbb-c510-0b1598fbb55b"
      },
      "execution_count": 6,
      "outputs": [
        {
          "output_type": "stream",
          "name": "stdout",
          "text": [
            "Downloading data from https://storage.googleapis.com/tensorflow/tf-keras-datasets/mnist.npz\n",
            "\u001b[1m11490434/11490434\u001b[0m \u001b[32m━━━━━━━━━━━━━━━━━━━━\u001b[0m\u001b[37m\u001b[0m \u001b[1m0s\u001b[0m 0us/step\n"
          ]
        }
      ]
    },
    {
      "cell_type": "code",
      "source": [
        "def generate_random_image():\n",
        "  image = np.random.normal(loc=0.0, scale=1.0, size=(28, 28))\n",
        "  return np.clip(image, 0.0, 1.0)"
      ],
      "metadata": {
        "id": "NhIMzBcQVGRC"
      },
      "execution_count": 7,
      "outputs": []
    },
    {
      "cell_type": "code",
      "source": [
        "def show_images_grid(images, title=\"Activation Maximization\"):\n",
        "    import matplotlib.pyplot as plt\n",
        "    fig, axes = plt.subplots(2, 5, figsize=(10, 4))\n",
        "    for i, ax in enumerate(axes.flat):\n",
        "        ax.imshow(images[i].reshape(28, 28), cmap='gray')\n",
        "        ax.set_title(f'Class {i}')\n",
        "        ax.axis('off')\n",
        "    plt.suptitle(title)\n",
        "    plt.tight_layout()\n",
        "    plt.show()"
      ],
      "metadata": {
        "id": "mnc88ivc9Nbu"
      },
      "execution_count": 9,
      "outputs": []
    },
    {
      "cell_type": "code",
      "source": [
        "def activation_max_backward(self, target_class):\n",
        "  d_z2 = np.zeros_like(self.a2)\n",
        "  d_z2[0, target_class] = 1\n",
        "\n",
        "  d_a1 = np.dot(d_z2, self.W2.T)\n",
        "  d_z1 = d_a1 * self.relu_derivative(self.z1)\n",
        "  d_x = np.dot(d_z1, self.W1.T)\n",
        "\n",
        "  return d_x\n",
        "\n",
        "DeepNeuralNetwork.activation_max_backward = activation_max_backward"
      ],
      "metadata": {
        "id": "3RaM9hy-YzwQ"
      },
      "execution_count": 10,
      "outputs": []
    },
    {
      "cell_type": "code",
      "source": [
        "def activation_maximize_class(nn, target_class, steps=100, lr=0.01, verbose=True):\n",
        "  image = generate_random_image()\n",
        "\n",
        "  if verbose:\n",
        "    print(f\"Maximizing class {target_class}\")\n",
        "  for step in range(steps):\n",
        "    image = image.reshape(1, 784)  # flatten image\n",
        "\n",
        "    output = nn.forward(image)\n",
        "    activation = output[0, target_class]\n",
        "    grad = nn.activation_max_backward(target_class)\n",
        "\n",
        "    image += lr * grad\n",
        "\n",
        "    image = np.clip(image, 0.0, 1.0)\n",
        "\n",
        "    if verbose and (step % 10 == 0 or step+1 == steps):\n",
        "      print(f\"Step {step+1}/{steps} | Activation: {activation:.4f}\")\n",
        "\n",
        "  if verbose:\n",
        "    print()\n",
        "  return image"
      ],
      "metadata": {
        "id": "zRF2vdQJOjms"
      },
      "execution_count": 11,
      "outputs": []
    },
    {
      "cell_type": "code",
      "source": [
        "def activation_maximize_all_classes(nn, steps=100, lr=0.01, verbose=True, visualize=True):\n",
        "  images = []\n",
        "\n",
        "  for idx in range(10):\n",
        "    image = activation_maximize_class(nn, target_class=idx, steps=steps, lr=lr, verbose=False)\n",
        "    images.append(image)\n",
        "\n",
        "  if visualize:\n",
        "    show_images_grid(images)\n",
        "\n",
        "  return images"
      ],
      "metadata": {
        "id": "N5vOhFea5H3P"
      },
      "execution_count": 14,
      "outputs": []
    },
    {
      "cell_type": "code",
      "source": [
        "maximized_images = activation_maximize_all_classes(nn, steps=35, lr=0.01, verbose=False, visualize=False)"
      ],
      "metadata": {
        "id": "lptplVgJ-T8E"
      },
      "execution_count": 17,
      "outputs": []
    }
  ]
}